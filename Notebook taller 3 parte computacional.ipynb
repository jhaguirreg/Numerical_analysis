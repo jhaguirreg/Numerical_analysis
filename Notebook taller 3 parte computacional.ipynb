{
  "nbformat": 4,
  "nbformat_minor": 0,
  "metadata": {
    "colab": {
      "provenance": []
    },
    "kernelspec": {
      "name": "python3",
      "display_name": "Python 3"
    },
    "language_info": {
      "name": "python"
    }
  },
  "cells": [
    {
      "cell_type": "markdown",
      "source": [
        "**Análisis númerico 2024-1.**\n",
        "\n",
        "---\n",
        "\n",
        "\n",
        "\n",
        "**Grupo 1:**\n",
        "\n",
        "*   Jhon Fredy Aguirre García.\n",
        "*   Alejandra Castaño Morales.\n",
        "\n"
      ],
      "metadata": {
        "id": "GPLAc8JJp01V"
      }
    },
    {
      "cell_type": "code",
      "source": [
        "# Librerias necesarias:\n",
        "from math import exp # Usar la función exponencial.\n",
        "import matplotlib.pyplot as plt # Hacer las graficas del inciso computacional.\n",
        "import numpy as np # Hacer una partición de un intervalo."
      ],
      "metadata": {
        "id": "yxxtpBji8M66"
      },
      "execution_count": null,
      "outputs": []
    },
    {
      "cell_type": "markdown",
      "source": [
        "# Punto 9 (Parte computacional):"
      ],
      "metadata": {
        "id": "05TJUFJnTwa7"
      }
    },
    {
      "cell_type": "markdown",
      "source": [
        "Considere el problema de valor de contorno :\n",
        "\n",
        "> **(P):** $-y''(t)+y(t)e^{y(t)}=1$ Con $0<t<1$, $y(0)=0$, $y(1)=-1$\n",
        "\n",
        "Al cual se le pretende aplicar el método de disparo.\n",
        "\n",
        "**a)** Grafique la función $\\psi(s):= z(1; s) − 0, s\\in[−6, 1]$. Recordar que $z(t; s)$ es la solución del\n",
        "PVI asociado a (P), considerando $z'(0; s) = s$ en vez de $y(1) = 0$. ¿Se puede decir algo sobre la unicidad de la solución de (P)?\n",
        "\n",
        "**b)** Aplique el método de disparo para determinar la(s) solucion(es) de (P). Dejar expresado\n",
        "el(los) esquema(s) a resolver, e implementarlo(s). Debe resolver la ecuación no lineal por\n",
        "método de:\n",
        "\n",
        "* La secante, con tolerancia $10^{−10}$. Indicar número de iteraciones requeridas.\n",
        "* Newton-Raphson, con tolerancia $10^{−10}$. Indicar número de iteraciones requeridas.\n",
        "\n",
        "Finalmente, muestre cada solución aproximada en una misma gráfica. Puede usar la función\n",
        "**ode45** de *Matlab*, si lo estima conveniente."
      ],
      "metadata": {
        "id": "hI4d3-SCTyhC"
      }
    },
    {
      "cell_type": "markdown",
      "source": [
        "Definamos primero los datos que necesitamos durante la solución al PVF:\n",
        "\n",
        "Como $y(0)=0$, $y(1)=-1$ y $0<t<1$ tenemos que:\n",
        "\n",
        "> $a=0$, $b=1$.\n",
        "\n",
        "> $\\alpha=0$, $\\beta=0$.\n",
        "\n",
        "Reestructuremos así nuestro PVF a un PVI, donde:\n",
        "\n",
        "> $y''(t)=y(t)e^{y(t)}-1$ Con $0<t<1$, $y(0)=0$, $y'(0)=s\\in\\mathbb{R}$.\n",
        "\n",
        "Como $s$ es un escalar arbitrario necesitamos estimarlo, teniendo presente que $y(1,s)=-1$ donde $y(t,s)$ es la solución del sistema. Definamos así la función:\n",
        "\n",
        "> $F(s)=y(1,s)+1\\Longrightarrow F'(s)=\\dfrac{\\partial}{\\partial s}y(1,s)$.\n",
        "\n",
        "Para la cual debemos estimar la raíz, que es donde se cumple la igualdad anterior, para esto definamos:\n",
        "\n",
        "> $z(t,s)=\\dfrac{\\partial}{\\partial s}y(t,s)$.\n",
        "\n",
        "Haciendo cortas operaciones llegamos a que:\n",
        "\n",
        "> $z'(t,s)=\\dfrac{\\partial}{\\partial s}y'(t,s)$.\n",
        "\n",
        "> $z''(t,s)=\\dfrac{\\partial}{\\partial s}y''(t,s)=\\dfrac{\\partial}{\\partial s}[y(t)e^{y(t)}-1]$.\n",
        "\n",
        "Además $z(a)=0$ y $z'(a)=1$.\n",
        "\n",
        "Tomando $x_1=y,x_2=z,x_3=y',x_4=z'$ tenemos:\n",
        "\n",
        "> $x_1(a)=0,x_2(a)=0,x_3(a)=s,x_4(a)=1$.\n",
        "\n",
        "Por tanto, aplicando el método de Euler a las anteriores funciones:\n",
        "\n",
        "> $x_{1,j+1}=x_{1,j}+f_1(t_j,x_{1,j})$.\n",
        "\n",
        "> $x_{1,j+1}=x_{2,j}+f_2(t_j,x_{2,j})$.\n",
        "\n",
        "> $x_{3,j+1}=x_{3,j}+f_3(t_j,x_{3,j})$.\n",
        "\n",
        "> $x_{4,j+1}=x_{4,j}+f_4(t_j,x_{4,j})$.\n",
        "\n",
        "Donde:\n",
        "\n",
        "> $f_1(t,x_1)=x'_1=x_3$.\n",
        "\n",
        "> $f_2(t,x_{2})=z'=x_4$.\n",
        "\n",
        "> $f_3(t,x_{3})=y''=y(t)e^{y(t)}-1=x_1e^{x_1}-1$.\n",
        "\n",
        "> $f_4(t_j,x_{4,j})=[e^{x_1}+x_1e^{x_1}]x_2$."
      ],
      "metadata": {
        "id": "f6ZiYFExBjh5"
      }
    },
    {
      "cell_type": "code",
      "source": [
        "# Definimos las variables:\n",
        "a = 0\n",
        "b = 1\n",
        "alp = 0\n",
        "bet = -1\n",
        "\n",
        "# Definimos las funciones:\n",
        "def f1(x1_j,x2_j,x3_j,x4_j):\n",
        "  return x3_j\n",
        "\n",
        "def f2(x1_j,x2_j,x3_j,x4_j):\n",
        "  return x4_j\n",
        "\n",
        "def f3(x1_j,x2_j,x3_j,x4_j):\n",
        "  return x1_j*exp(x1_j)-1\n",
        "\n",
        "def f4(x1_j,x2_j,x3_j,x4_j):\n",
        "  return (exp(x1_j)+exp(x1_j)*x1_j)*x2_j\n",
        "\n",
        "# Definimos la cantidad y ancho de las particiones:\n",
        "N = 100\n",
        "h = (b-a)/N\n",
        "\n",
        "# Tolerancia:\n",
        "tol = 10**(-10)"
      ],
      "metadata": {
        "id": "HlD1rxT32SiZ"
      },
      "execution_count": null,
      "outputs": []
    },
    {
      "cell_type": "markdown",
      "source": [
        "**a)** Realizaremos el proceso propuesto anteriormente para diferentes valores de $s\\in[-6,1]$, guardando el valor de $F(s)=y(1,s)-0$ para finalmente realizar la grafica de este."
      ],
      "metadata": {
        "id": "apwhs_2XKjWX"
      }
    },
    {
      "cell_type": "code",
      "source": [
        "# Creamos las listas:\n",
        "VecS=list(np.linspace(-6,1,1000))\n",
        "VecPsi=[]\n",
        "\n",
        "# Para cada valor de s iteramos y calculamos la solución de la ecuación diferencial:\n",
        "for s in VecS:\n",
        "  # Inicializamos variables\n",
        "  x1=[0]\n",
        "  x2=[0]\n",
        "  x3=[s]\n",
        "  x4=[1]\n",
        "  t=[a+h*j for j in range(N+1)]\n",
        "  # Iteramos:\n",
        "  for j in range(N):\n",
        "    x1_sig = x1[j] + h * f1(x1[j],x2[j],x3[j],x4[j])\n",
        "    x2_sig = x2[j] + h * f2(x1[j],x2[j],x3[j],x4[j])\n",
        "    x3_sig = x3[j] + h * f3(x1[j],x2[j],x3[j],x4[j])\n",
        "    x4_sig = x4[j] + h * f4(x1[j],x2[j],x3[j],x4[j])\n",
        "\n",
        "    x1.append(x1_sig)\n",
        "    x2.append(x2_sig)\n",
        "    x3.append(x3_sig)\n",
        "    x4.append(x4_sig)\n",
        "  # Guardamos valores:\n",
        "  VecPsi.append(x1[-1]-0)\n",
        "# Graficamos:\n",
        "plt.plot(VecS,VecPsi)\n",
        "plt.show()"
      ],
      "metadata": {
        "colab": {
          "base_uri": "https://localhost:8080/",
          "height": 432
        },
        "id": "sLjZ7vBV8OA_",
        "outputId": "4e95f583-a147-4240-c616-7ff6bd474fb8"
      },
      "execution_count": null,
      "outputs": [
        {
          "output_type": "display_data",
          "data": {
            "text/plain": [
              "<Figure size 640x480 with 1 Axes>"
            ],
            "image/png": "[encoded data removed]"
          },
          "metadata": {}
        }
      ]
    },
    {
      "cell_type": "markdown",
      "source": [
        "Como vemos, la gráfica muestra posibles soluciones no triviales $y(t)\\neq0$, por lo tanto el sistema tiene única solución.\n",
        "\n",
        "**b)** Aplicaremos el método de Newton Raphson para estimar el valor de $s$:\n",
        "\n",
        "> $s_{r+1}=s_r-\\frac{F(s_r)}{F'(s_r)}$.\n",
        "\n",
        "Donde $s_0=\\frac{b-a}{\\beta-\\alpha}$.\n",
        "\n",
        "Ahora bien, aplicando el método de la secante:\n",
        "\n",
        "> $s_{r+1}=s_r-\\frac{F(s_r)[s_{r-1}-s_r]}{F(s_{r-1})-F(s_r)}$.\n",
        "\n",
        "Donde, al necesitar dos valores iniciales:\n",
        "\n",
        "> $s_0=\\frac{b-a}{\\beta-\\alpha}$.\n",
        "\n",
        "> $s_1=2s_0$."
      ],
      "metadata": {
        "id": "LdSVacNzLyit"
      }
    },
    {
      "cell_type": "code",
      "execution_count": null,
      "metadata": {
        "colab": {
          "base_uri": "https://localhost:8080/",
          "height": 430
        },
        "id": "c_3YS1f5oOWI",
        "outputId": "4c9f2168-4996-4ac4-b754-875ccc897a87"
      },
      "outputs": [
        {
          "output_type": "display_data",
          "data": {
            "text/plain": [
              "<Figure size 640x480 with 1 Axes>"
            ],
            "image/png": "[encoded data removed]"
          },
          "metadata": {}
        }
      ],
      "source": [
        "# Método Newton Raphson.\n",
        "# Inicializamos el valor inicial de s\n",
        "s_0 = (b-a)/(bet-alp)\n",
        "S=[s_0]\n",
        "error=float(\"inf\") # Aplicamos un error muy grande.\n",
        "\n",
        "# Conteo de iteraciones.\n",
        "iterNR=0\n",
        "iterSec=0\n",
        "\n",
        "# Aplicamos el método recalculando s hasta que el error sea el deseado:\n",
        "while error>tol:\n",
        "  # Inicializamos variables.\n",
        "  x1=[0]\n",
        "  x2=[0]\n",
        "  x3=[S[-1]]\n",
        "  x4=[1]\n",
        "  t=[a+h*j for j in range(N+1)]\n",
        "  # Iteramos.\n",
        "  for j in range(N):\n",
        "    x1_sig = x1[j] + h * f1(x1[j],x2[j],x3[j],x4[j])\n",
        "    x2_sig = x2[j] + h * f2(x1[j],x2[j],x3[j],x4[j])\n",
        "    x3_sig = x3[j] + h * f3(x1[j],x2[j],x3[j],x4[j])\n",
        "    x4_sig = x4[j] + h * f4(x1[j],x2[j],x3[j],x4[j])\n",
        "\n",
        "    x1.append(x1_sig)\n",
        "    x2.append(x2_sig)\n",
        "    x3.append(x3_sig)\n",
        "    x4.append(x4_sig)\n",
        "  #Guardamos valores y recalculamos s.\n",
        "  F_k = x1[-1]-bet\n",
        "  F_k_der = x2[-1]\n",
        "\n",
        "  s_j = S[-1] - (F_k/F_k_der)\n",
        "  S.append(s_j)\n",
        "\n",
        "  iterNR+=1\n",
        "  error = abs(S[-1]-S[-2])\n",
        "\n",
        "# Graficamos\n",
        "plt.plot(t,x1)\n",
        "\n",
        "# Realizamos el mismo proceso para el método de la secante:\n",
        "s_0 = (b-a)/(bet-alp)\n",
        "S=[s_0]\n",
        "error=float(\"inf\")\n",
        "s_1 = 2 * s_0\n",
        "F_k = []\n",
        "\n",
        "while error>tol:\n",
        "\n",
        "  x1=[0]\n",
        "  x2=[0]\n",
        "  x3=[S[-1]]\n",
        "  x4=[1]\n",
        "  t=[a+h*j for j in range(N+1)]\n",
        "\n",
        "  for j in range(N):\n",
        "    x1_sig = x1[j] + h * f1(x1[j],x2[j],x3[j],x4[j])\n",
        "    x2_sig = x2[j] + h * f2(x1[j],x2[j],x3[j],x4[j])\n",
        "    x3_sig = x3[j] + h * f3(x1[j],x2[j],x3[j],x4[j])\n",
        "    x4_sig = x4[j] + h * f4(x1[j],x2[j],x3[j],x4[j])\n",
        "\n",
        "    x1.append(x1_sig)\n",
        "    x2.append(x2_sig)\n",
        "    x3.append(x3_sig)\n",
        "    x4.append(x4_sig)\n",
        "\n",
        "  F_k.append(x1[-1]-bet)\n",
        "  if len(S)<2:\n",
        "    s_j = 2 * S[-1]\n",
        "  else:\n",
        "    s_j = S[-1] - ((S[-1]-S[-2])/(F_k[-1]-F_k[-2])) * F_k[-1]\n",
        "  S.append(s_j)\n",
        "\n",
        "  error = abs(S[-1]-S[-2])\n",
        "  iterSec+=1\n",
        "\n",
        "# Mostramos la grafica:\n",
        "plt.plot(t,x1,\"--\")\n",
        "plt.legend([f\"Newton-Raphson. (Iteraciones: {iterNR})\",f\"Método de la secante. (Iteraciones: {iterSec})\"])\n",
        "plt.show()"
      ]
    }
  ]
}