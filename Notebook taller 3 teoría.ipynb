{
  "nbformat": 4,
  "nbformat_minor": 0,
  "metadata": {
    "colab": {
      "provenance": [],
      "collapsed_sections": [
        "5tE-6fWMRcW9",
        "UzaYxukmSzIF",
        "05TJUFJnTwa7"
      ]
    },
    "kernelspec": {
      "name": "python3",
      "display_name": "Python 3"
    },
    "language_info": {
      "name": "python"
    }
  },
  "cells": [
    {
      "cell_type": "markdown",
      "source": [
        "**Análisis númerico 2024-1.**\n",
        "\n",
        "---\n",
        "\n",
        "\n",
        "\n",
        "**Grupo 1:**\n",
        "\n",
        "*   Jhon Fredy Aguirre García.\n",
        "*   Alejandra Castaño Morales.\n",
        "\n"
      ],
      "metadata": {
        "id": "GPLAc8JJp01V"
      }
    },
    {
      "cell_type": "code",
      "execution_count": null,
      "metadata": {
        "id": "lj2kef9JOLVF"
      },
      "outputs": [],
      "source": [
        "# Librerias necesarias:"
      ]
    },
    {
      "cell_type": "markdown",
      "source": [
        "# Punto 1 inciso b:"
      ],
      "metadata": {
        "id": "5tE-6fWMRcW9"
      }
    },
    {
      "cell_type": "markdown",
      "source": [
        "Para el siguiente esquema determine explicitamente su región de estabilidad absoluta:\n",
        "\n",
        "> $y_{j+2}-y_j=hf_{j+1}$.\n",
        "\n",
        "¿Será el método $A$ estable? ¿$A_0$ estable? Fundamente su respuesta. ¿Qué se puede decir sobre la convergencia de este método?"
      ],
      "metadata": {
        "id": "0YH5hnY8RyKJ"
      }
    },
    {
      "cell_type": "markdown",
      "source": [
        "**Desarrollo:** Consideremos el PVI $y'(t)=\\lambda y(t)$ con $y(\\alpha)=\\eta$, $\\lambda<0$ y $t\\in[\\alpha,\\beta]$. Definamos ahora a $f(t,y(t))=y'(t)=\\lambda y(t)$, entonces, aplicando el esquema:\n",
        "\n",
        "> $y_{j+2}-y_j=hf_{j+1}=h\\lambda y_{j+1}$.\n",
        "\n",
        "Considerando $\\hat{h}=h\\lambda$ podemos definir el siguiente polinomio asociado (también llamado el polinomio de estabilidad):\n",
        "\n",
        "> $q(\\mu,\\hat{h})=\\mu^2-\\hat{h}\\mu-1$.\n",
        "\n",
        "El cual debe cumplir la condición de la raíz estricta, es decir, $|\\mu_0|<1$ donde $\\mu_0$ es una raíz de la función $q$.\n",
        "\n",
        "Mediante la fórmula cuadrática podemos llegar a las siguientes raices:\n",
        "\n",
        "* $\\mu_1=\\frac{\\hat{h}+\\sqrt{\\hat{h}^2+4}}{2}$, así, como $|\\mu_1|<1$ entonces:\n",
        "\n",
        "> $|\\frac{\\hat{h}+\\sqrt{\\hat{h}^2+4}}{2}|<1$, así, $|\\hat{h}+\\sqrt{\\hat{h}^2+4}|<2$, resolviendo el valor absoluto:\n",
        "\n",
        "> $-2<\\hat{h}+\\sqrt{\\hat{h}^2+4}<2$.\n",
        "\n",
        "> $-2-\\hat{h}<\\sqrt{\\hat{h}^2+4}<2-\\hat{h}$.\n",
        "\n",
        "> $(-2-\\hat{h})^2<\\hat{h}^2+4<(2-\\hat{h})^2$.\n",
        "\n",
        "> $4+4\\hat{h}+\\hat{h}^2<\\hat{h}^2+4<4-4\\hat{h}+\\hat{h}^2$.\n",
        "\n",
        "> $4\\hat{h}<0<-4\\hat{h}$.\n",
        "\n",
        "De donde se concluye que $\\hat{h}<0$.\n",
        "\n",
        "* $\\mu_2=\\frac{\\hat{h}-\\sqrt{\\hat{h}^2+4}}{2}$. Así, como $|\\mu_2|<1$ entonces:\n",
        "\n",
        "> $|\\frac{\\hat{h}-\\sqrt{\\hat{h}^2+4}}{2}|<1$, así, $|\\hat{h}-\\sqrt{\\hat{h}^2+4}|<2$, resolviendo el valor absoluto:\n",
        "\n",
        "> $-2<\\hat{h}-\\sqrt{\\hat{h}^2+4}<2$.\n",
        "\n",
        "> $-2-\\hat{h}<-\\sqrt{\\hat{h}^2+4}<2-\\hat{h}$.\n",
        "\n",
        "> $2+\\hat{h}>\\sqrt{\\hat{h}^2+4}>\\hat{h}-2$.\n",
        "\n",
        "> $(2+\\hat{h})^2>\\hat{h}^2+4>(\\hat{h}-2)^2$.\n",
        "\n",
        "> $4+4\\hat{h}+\\hat{h}^2>\\hat{h}^2+4>4-4\\hat{h}+\\hat{h}^2$.\n",
        "\n",
        "> $4\\hat{h}>0>-4\\hat{h}$.\n",
        "\n",
        "De donde se concluye que $\\hat{h}>0$.\n",
        "\n",
        "Por lo tanto $\\Omega_{abs}=\\{\\hat{h}\\in\\mathbb{C}:\\hat{h}>0, \\hat{h}<0\\}=\\emptyset$.\n",
        "\n",
        "> Esto ya que recordemos que $\\hat{h}=a+bi$ con $a,b\\in \\mathbb{R}$, así se tendría que $0<a+bi<0$, o bien, $-bi<a<-bi$, ahora elevando al cuadrado tenemos que $-b^2<a^2<-b^2$ lo cual si es absurdo en $\\mathbb{R}$.\n",
        "\n",
        "También podemos calcular $\\Omega_0=\\Omega_{abs}\\cap\\{\\hat{h}=(\\hat{h}_1,0)\\in\\mathbb{C}:\\hat{h}_1<0\\}=\\emptyset$.\n",
        "\n",
        "Tenemos así que el método no es ni $A$ estable y tampoco $A_0$ estable (ya que $\\mathbb{C}^-\\not\\subset\\emptyset=\\Omega_{abs}$ y $\\mathbb{R}^-\\not\\subset\\emptyset=\\Omega_0$).\n",
        "\n",
        "Al tener que el método no es $A$ estable es imposible garantizar o negar la convergencia, en este caso en partícular podemos ver que el método no es consistente ya que no se cumple la segunda condición:\n",
        "\n",
        "> $\\psi_1(\\mu)=\\mu^2-1$.\n",
        "\n",
        "> $\\sigma_1(\\mu)=\\mu$.\n",
        "\n",
        "> $\\psi_2(\\mu)=\\mu\\psi_1'(\\mu)=2\\mu^2$.\n",
        "\n",
        "> $\\psi_2(1)=2\\neq1=\\sigma_1(1)$.\n",
        "\n",
        "Por lo tanto, el método no es convergente."
      ],
      "metadata": {
        "id": "HG105dXMam4T"
      }
    },
    {
      "cell_type": "markdown",
      "source": [
        "# Punto 2 inciso 2.5:"
      ],
      "metadata": {
        "id": "UzaYxukmSzIF"
      }
    },
    {
      "cell_type": "markdown",
      "source": [
        "Analice la $A_0$ estabilidad del siguiente esquema:\n",
        "\n",
        "> $2y_{j+2}-3y_{j+1}+y_j=\\frac{1}{2}h(4f_{j+2}-3f_{j+1}+f_j)$, con $j\\geq0$\n",
        "\n",
        "¿Es convergente además este esquema? Si lo es, su orden de\n",
        "convergencia."
      ],
      "metadata": {
        "id": "1zIl1l82S3wg"
      }
    },
    {
      "cell_type": "markdown",
      "source": [
        "**Desarrollo:** Consideremos el PVI $y'(t)=\\lambda y(t)$ con $y(\\alpha)=\\eta$, $\\lambda<0$ y $t\\in[\\alpha,\\beta]$. Definamos ahora a $f(t,y(t))=y'(t)=\\lambda y(t)$, entonces, aplicando el esquema:\n",
        "\n",
        "> $2y_{j+2}-3y_{j+1}+y_j=\\frac{1}{2}h(4\\lambda y_{j+2}-3\\lambda y_{j+1}+\\lambda y_j)=\\frac{h\\lambda}{2}(4y_{j+2}-3y{j+1}+y_j)$\n",
        "\n",
        "Así, siendo $\\hat{h}=h\\lambda$ y multiplicando todo por $\\frac{1}{2}$, obtenemos:\n",
        "\n",
        "> $y_{j+2}-\\frac{3}{2}y_{j+1}+\\frac{1}{2}y_j-\\frac{\\hat{h}}{4}(4y_{j+2}-3y{j+1}+y_j)=y_{j+2}-\\frac{3}{2}y_{j+1}+\\frac{1}{2}y_j-\\hat{h}y_{j+2}+\\frac{3\\hat{h}}{4}y_{j+1}-\\frac{\\hat{h}}{4}y_j$.\n",
        "\n",
        "De donde, al agrupar terminos semejantes:\n",
        "\n",
        "> $(1-\\hat{h})y_{j+2}+(\\frac{3\\hat{h}}{4}-\\frac{3}{2})y_{j+1}+(\\frac{1}{2}+\\frac{\\hat{h}}{4})y_j=(1-\\hat{h})y_{j+2}+\\frac{3\\hat{h}-6}{4}y_{j+1}+\\frac{2-\\hat{h}}{4}y_j$.\n",
        "\n",
        "Y definamos así:\n",
        "\n",
        "> $q(\\mu)=\\mu^2+\\frac{3\\hat{h}-6}{4-4\\hat{h}}\\mu+\\frac{2-\\hat{h}}{4-4\\hat{h}}$.\n",
        "\n",
        "Usemos las condiciones de Jury para garantizar que $q(\\mu)$ cumple la condición de la raíz, asi:\n",
        "\n",
        "* $q(0)<1$:\n",
        "\n",
        "> $q(0)=\\frac{2-\\hat{h}}{4-4\\hat{h}}<1$, así $\\frac{2-\\hat{h}}{4-4\\hat{h}}-1=\\frac{3\\hat{h}-2}{4-4\\hat{h}}<0$  haciendo un estudio de los signos tenemos que:\n",
        "\n",
        "> * $3\\hat{h}-2>0$ si $\\hat{h}>\\frac{2}{3}$.\n",
        "> * $4-4\\hat{h}>0$ si $\\hat{h}<1$.\n",
        "\n",
        "> Por tanto, $q(0)>1$ si $\\hat{h}\\in(-\\infty,\\frac{2}{3})\\cup(1,\\infty)$.\n",
        "\n",
        "* $q(1)>0$:\n",
        "\n",
        "> $q(1)=1+\\frac{3\\hat{h}-6}{4-4\\hat{h}}+\\frac{2-\\hat{h}}{4-4\\hat{h}}=1+\\frac{2\\hat{h}-4}{4-4\\hat{h}}=\\frac{-2\\hat{h}}{4-4\\hat{h}}=\\frac{-\\hat{h}}{2-2\\hat{h}}>0$. Haciendo un estudio de los signos tenemos que:\n",
        "\n",
        "> * $-\\hat{h}>0$ si $\\hat{h}<0$.\n",
        "> * $2-2\\hat{h}>0$ si $\\hat{h}<1$.\n",
        "\n",
        "> Por tanto, $q(1)>0$ si $\\hat{h}\\in(-\\infty,0)\\cup(1,\\infty)$.\n",
        "\n",
        "* $q(-1)>0$:\n",
        "\n",
        "> $q(-1)=1-\\frac{3\\hat{h}-6}{4-4\\hat{h}}+\\frac{2-\\hat{h}}{4-4\\hat{h}}=1+\\frac{8-4\\hat{h}}{4-4\\hat{h}}=\\frac{12-8\\hat{h}}{4-4\\hat{h}}=\\frac{3-2\\hat{h}}{1-\\hat{h}}>0$. Haciendo un estudio de los signos tenemos que:\n",
        "\n",
        "> * $3-2\\hat{h}>0$ si $\\hat{h}<\\frac{3}{2}$.\n",
        "> * $1-\\hat{h}>0$ si $\\hat{h}<1$.\n",
        "\n",
        "> Por tanto, $q(-1)>0$ si $\\hat{h}\\in(-\\infty,1)\\cup(\\frac{3}{2},\\infty)$.\n",
        "\n",
        "Ahora, podemos concluir que el método es $A_0$ estable si:\n",
        "\n",
        "> $\\hat{h}\\in[(-\\infty,\\frac{2}{3})\\cup(1,\\infty)]\\cap[(-\\infty,0)\\cup(1,\\infty)]\\cap[(-\\infty,1)\\cup(\\frac{3}{2},\\infty)]=(-\\infty,0)\\cup(\\frac{3}{2},\\infty)$.\n",
        "\n",
        "Al ser el esquema $A_0$ estable se garantiza la primera condición de la consistencia y la cero estabilidad, veamos cual es su orden de consistencia para así encontrar el orden de convergencia del método:\n",
        "\n",
        "> $\\psi_{1}(\\mu):=2\\mu^{2}-3\\mu+1$.\n",
        "\n",
        "> $\\psi_{2}(\\mu):=4\\mu^{2}-3\\mu$.\n",
        "\n",
        "> $\\psi_{3}(\\mu):=8\\mu^{2}-3\\mu$.\n",
        "\n",
        "> $\\psi_{4}(\\mu):=16\\mu^{2}-3\\mu$.\n",
        "\n",
        "> $\\sigma_{1}(\\mu):=2\\mu^2-\\frac{3}{2}\\mu+\\frac{1}{2}$.\n",
        "\n",
        "> $\\sigma_{2}(\\mu):=4\\mu^2-\\frac{3}{2}\\mu$.\n",
        "\n",
        "> $\\sigma_{3}(\\mu):=8\\mu^2-\\frac{3}{2}\\mu$.\n",
        "\n",
        "Así:\n",
        "> $\\psi_{2}(1)=4-3=1=2-1=2-\\frac{3}{2}+\\frac{1}{2}=\\sigma_1(1)$.\n",
        "\n",
        "> $\\psi_{3}(1)=8-3=5=2(4-\\frac{3}{2})=2\\sigma_2(1)$.\n",
        "\n",
        "> $\\psi_{4}(1)=16-3=13\\neq\\frac{39}{2}=3(8-\\frac{3}{2})=3\\sigma_3(1)$.\n",
        "\n",
        "Como se observa, el método es convergente de orden 2, que corresponde al número de pasos del método (¿Siempre se cumple?)."
      ],
      "metadata": {
        "id": "SkvoiPXvv6pT"
      }
    },
    {
      "cell_type": "markdown",
      "source": [
        "# Punto 9:"
      ],
      "metadata": {
        "id": "05TJUFJnTwa7"
      }
    },
    {
      "cell_type": "markdown",
      "source": [
        "Considere el problema de valor de contorno :\n",
        "\n",
        "> **(P):** $-y''(t)+y(t)e^{y(t)}=1$ Con $0<t<1$, $y(0)=0$, $y(1)=-1$\n",
        "\n",
        "Al cual se le pretende aplicar el método de disparo.\n",
        "\n",
        "**a)** Grafique la función $\\psi(s):= z(1; s) − 0, s\\in[−6, 1]$. Recordar que $z(t; s)$ es la solución del\n",
        "PVI asociado a (P), considerando $z'(0; s) = s$ en vez de $y(1) = 0$. ¿Se puede decir algo sobre la unicidad de la solución de (P)?\n",
        "\n",
        "**b)** Aplique el método de disparo para determinar la(s) solucion(es) de (P). Dejar expresado\n",
        "el(los) esquema(s) a resolver, e implementarlo(s). Debe resolver la ecuación no lineal por\n",
        "método de:\n",
        "\n",
        "* La secante, con tolerancia $10^{−10}$. Indicar número de iteraciones requeridas.\n",
        "* Newton-Raphson, con tolerancia $10^{−10}$. Indicar número de iteraciones requeridas.\n",
        "\n",
        "Finalmente, muestre cada solución aproximada en una misma gráfica. Puede usar la función\n",
        "**ode45** de *Matlab*, si lo estima conveniente."
      ],
      "metadata": {
        "id": "hI4d3-SCTyhC"
      }
    }
  ]
}