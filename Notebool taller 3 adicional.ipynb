{
  "nbformat": 4,
  "nbformat_minor": 0,
  "metadata": {
    "colab": {
      "provenance": []
    },
    "kernelspec": {
      "name": "python3",
      "display_name": "Python 3"
    },
    "language_info": {
      "name": "python"
    }
  },
  "cells": [
    {
      "cell_type": "markdown",
      "source": [
        "# Consistencia:\n",
        "\n",
        "Ya que definimos:\n",
        "\n",
        "$\\psi(\\mu)=\\sum_{m=0}^r\\alpha_m\\mu^m$.\n",
        "\n",
        "$\\sigma(\\mu)=\\sum_{m=0}^r\\beta_mf_{j+m}$.\n",
        "\n",
        "Tenemos que:\n",
        "\n",
        "$\\psi(\\mu)=\\psi_1(\\mu)=\\mu^2+\\mu+\\alpha$.\n",
        "\n",
        "$\\sigma(\\mu)=\\sigma_1(\\mu)=\\mu^2+\\beta$\n",
        "\n",
        "Para verificar si el sistema es consistente de orden $k$ se debe cumplir dos condiciones:\n",
        "\n",
        "1. $\\psi_1(1)=0$.  \n",
        "\n",
        "2.  Para $j\\in\\{1,...,k\\}, \\psi_{j+1}(1)=j\\sigma_j(1)$.\n",
        "\n",
        "Veamos que se cumple la condición 1:\n",
        "\n",
        "$\\psi_1(1)=(1)^2+(1)+\\alpha=0$, esto nos indica que $\\alpha=-2$.\n",
        "\n",
        "Para comprobar la condición 2 recordemos que $\\psi_{j+1}(\\mu)=\\mu\\psi_j'$ y $\\sigma_{j+1}(\\mu)=\\mu\\sigma_j'$. Así:\n",
        "\n",
        "$\\psi_2(\\mu)=\\mu(2\\mu+1)=2\\mu^2+\\mu$.\n",
        "\n",
        "Entonces se debe cumplir que $\\psi_2(1)=\\sigma_1(1)$:\n",
        "\n",
        "$\\psi_2(1)=(2+1)=1+\\beta=\\sigma_1(1)$, de esta igualdad tenemos que $\\beta=2$.\n",
        "\n",
        "Ahora, tenemos que el sistemas es consistente de al menos orden 1, veamos si resulta consistente de orden 2, calculemos:\n",
        "\n",
        "$\\sigma_2(\\mu)=2\\mu^2$.\n",
        "\n",
        "$\\psi_3(\\mu)=\\mu(4\\mu+1)=4\\mu^2+\\mu$\n",
        "\n",
        "Ahora se debe cumplir que $\\psi_3(1)=2\\sigma_2(1)$:\n",
        "\n",
        "$\\psi_3(1)=(4+1)=5\\neq4=2\\sigma_2(1)$.\n",
        "\n",
        "Así tenemos que el sistema es consistente de orden 1 ya que no cumple la condición a partir del orden 2.\n",
        "\n",
        "# Cero estable:\n",
        "\n",
        "Sea $q$ un polinomio. Se dice que $q$ satisface el criterio de la raíz si todas sus raíces caen dentro o sobre el círculo unitario, siendo aquellas que caen en la circunferencia unitaria, raíces simples. Es decir:\n",
        "\n",
        "a) $\\forall \\mu \\in \\mathbb{C}: q(\\mu)=0 \\Rightarrow|\\mu| \\leq 1$,\n",
        "\n",
        "b) $\\forall \\mu \\in \\mathbb{C}: q(\\mu)=0:\\left(|\\mu|=1 \\Rightarrow q^{\\prime}(\\mu) \\neq 0\\right)$.\n",
        "\n",
        "El método multipaso se dice que es cero-estable si su primer polinomio característico, $\\psi_1$, satisface la condición de la raíz.\n",
        "\n",
        "Utilizando la formula cuadrática sobre el polinomio $\\psi_1(\\mu)=\\mu^2+\\mu+\\alpha$., llegamos a que las raices de este son $\\frac{-1+\\sqrt{1-4\\alpha}}{2}$ y $\\frac{-1-\\sqrt{1-4\\alpha}}{2}$. Despejando los valores en que debe estar $\\alpha$ para que la satisfaga, llegamos a que $\\alpha\\in[-2,0]$.\n",
        "\n",
        "# Convergencia:\n",
        "\n",
        "Para que sea convergente es necesario que sea cero estable y consistente, cabe resaltar que se conserva el orden de consistencia, así, el sistema es convergente cuando $\\alpha=-2$ ya que es cero estable y consistente.\n",
        "\n",
        "Como se nota en esta parte, se da respuesta positiva al inciso d, ya que en más alto orden de consistencia es 1 y ahí el sistema es convergente."
      ],
      "metadata": {
        "id": "QBMAyjon9krK"
      }
    },
    {
      "cell_type": "code",
      "execution_count": null,
      "metadata": {
        "id": "hw7WeLwMQO_0"
      },
      "outputs": [],
      "source": [
        "# Importamos libreria:\n",
        "from sympy import *"
      ]
    },
    {
      "cell_type": "code",
      "source": [
        "# Definimos los simbolos\n",
        "x = symbols('x')\n",
        "b = symbols('b')\n",
        "\n",
        "# Definimos las funciones:\n",
        "psi_1 = x**2 + (b-1)*x - b\n",
        "sigma_1 = ((b+3)/4)*x**2 + (3*b+1)/4\n",
        "\n",
        "# Generamos listas para guardar los valores de las funciones:\n",
        "psiFuncs = [psi_1]\n",
        "sigmaFuncs = [sigma_1]\n",
        "orden=0"
      ],
      "metadata": {
        "id": "5nw8i445QUEv"
      },
      "execution_count": null,
      "outputs": []
    },
    {
      "cell_type": "code",
      "source": [
        "# Consistencia:\n",
        "while True:\n",
        "  # Evaluamos la primera condición:\n",
        "  if psiFuncs[0].subs(x,1) != 0:\n",
        "    break\n",
        "\n",
        "  # Evaluamos la segunda condición:\n",
        "  # Sacamos las funciones anteriores:\n",
        "  psi_j = psiFuncs[-1]\n",
        "  sigma_j = sigmaFuncs[-1]\n",
        "\n",
        "  # Se calcula el siguiente de psi_j:\n",
        "  psi_j_1 = x*diff(psi_j,x)\n",
        "  print(\"si\",psi_j_1)\n",
        "\n",
        "  # Evaluamos si falla la condición de consistencia para el orden (orden+1):\n",
        "  #if round(psi_j_1.subs(x,1),2) != round((orden+1)*sigma_j.subs(x,1),2):\n",
        "  if psi_j_1.subs(x,1) != (orden+1)*sigma_j.subs(x,1):\n",
        "    break\n",
        "  else:\n",
        "    # Como cumple la condición de consistencia actualizamos la variable:\n",
        "    orden = orden + 1\n",
        "\n",
        "    # Calculamos el siguiente de sigma_j:\n",
        "    sigma_j_1 = x*diff(sigma_j,x)\n",
        "    print(\"sigma\",sigma_j_1)\n",
        "    sigmaFuncs.append(sigma_j_1)\n",
        "    psiFuncs.append(psi_j_1)\n",
        "\n",
        "print(f\"El método es de orden {orden}\")"
      ],
      "metadata": {
        "colab": {
          "base_uri": "https://localhost:8080/"
        },
        "id": "reup46lgQWO4",
        "outputId": "e00423dc-9a6a-4c36-a786-9c7458f9ca7f"
      },
      "execution_count": null,
      "outputs": [
        {
          "output_type": "stream",
          "name": "stdout",
          "text": [
            "si x*(b + 2*x - 1)\n",
            "sigma 2*x**2*(b/4 + 3/4)\n",
            "si x*(b + 4*x - 1)\n",
            "sigma 4*x**2*(b/4 + 3/4)\n",
            "si x*(b + 8*x - 1)\n",
            "El método es de orden 2\n"
          ]
        }
      ]
    },
    {
      "cell_type": "code",
      "source": [
        "# Cero estable:\n",
        "raices=solve(psi_1,x)\n",
        "cero_estable=True\n",
        "for raiz in raices:\n",
        "  if abs(raiz)<=1:\n",
        "    print(f\"La raíz {raiz} se encuentra dentro o sobre el círculo unitario.\")\n",
        "  else:\n",
        "    print(f\"La raíz {raiz} no se encuentra dentro o sobre el círculo unitario.\")\n",
        "    cero_estable=False\n",
        "print(f\"Cero estable: {cero_estable}\")"
      ],
      "metadata": {
        "colab": {
          "base_uri": "https://localhost:8080/"
        },
        "id": "Kfoq3F94XcJP",
        "outputId": "13caaeb3-a1d2-4997-966b-e1cb44c1c20c"
      },
      "execution_count": null,
      "outputs": [
        {
          "output_type": "stream",
          "name": "stdout",
          "text": [
            "La raíz 1 se encuentra dentro o sobre el círculo unitario.\n",
            "Cero estable: True\n"
          ]
        }
      ]
    }
  ]
}